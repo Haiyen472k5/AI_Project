{
 "cells": [
  {
   "cell_type": "code",
   "execution_count": null,
   "id": "c2212087",
   "metadata": {},
   "outputs": [],
   "source": [
    "from sklearn.ensemble import RandomForestClassifier\n",
    "from sklearn.model_selection import train_test_split\n",
    "from sklearn.metrics import classification_report\n",
    "from xgboost import XGBClassifier\n",
    "from sklearn.model_selection import RandomizedSearchCV\n",
    "from scipy.stats import loguniform\n",
    "from sklearn.model_selection import StratifiedKFold\n",
    "import pandas as pd\n",
    "import numpy as np\n",
    "\n",
    "# Đọc dữ liệu đã gộp\n",
    "df = pd.read_excel('table_sample/super_sentinel_merge.xlsx')\n",
    "# Chọn các đặc trưng và nhãn\n",
    "\n",
    "\n",
    "features = ['brightness', 'br_ratio', 'min_rgb', 'ndi_rb', 'ndvi']\n",
    "X = df[features]\n",
    "y = df['Classvalue']\n",
    "\n",
    "\n",
    "X_train, X_test, y_train, y_test = train_test_split(X, y, test_size=0.2, stratify=y, random_state=42)\n",
    "\n"
   ]
  },
  {
   "cell_type": "code",
   "execution_count": null,
   "id": "c6e37002",
   "metadata": {},
   "outputs": [],
   "source": [
    "from xgboost import XGBClassifier\n",
    "\n",
    "xgb_model = XGBClassifier(eval_metric='logloss', random_state=42, n_estimators=100)\n",
    "xgb_model.fit(\n",
    "    X_train, \n",
    "    y_train\n",
    ")"
   ]
  },
  {
   "cell_type": "code",
   "execution_count": null,
   "id": "9b8751e5",
   "metadata": {},
   "outputs": [],
   "source": [
    "from sklearn.metrics import classification_report, confusion_matrix\n",
    "\n",
    "y_pred = xgb_model.predict(X_test)\n",
    "print(confusion_matrix(y_test, y_pred))\n",
    "print(classification_report(y_test, y_pred))"
   ]
  },
  {
   "cell_type": "code",
   "execution_count": null,
   "id": "02d5d348",
   "metadata": {},
   "outputs": [],
   "source": [
    "from sklearn.model_selection import GridSearchCV\n",
    "\n",
    "# K-fold giữ tỷ lệ phân phối class (rất quan trọng với dữ liệu Sentinel)\n",
    "cv = StratifiedKFold(n_splits=5, shuffle=True, random_state=42)\n",
    "\n",
    "param_dis = {\n",
    "    'n_estimators': np.arange(100, 1000, 150),           # Số cây\n",
    "    'max_depth': np.arange(8, 13),                       # Độ sâu tối đa\n",
    "    'learning_rate': loguniform(0.009, 0.18),            # Tốc độ học\n",
    "    'reg_lambda': loguniform(1e-5, 3),                   # Regularization L2\n",
    "    'subsample': loguniform(0.5, 1),                     # Tỷ lệ mẫu mỗi cây\n",
    "    'min_child_weight': loguniform(0.4, 5),              # Tránh overfitting\n",
    "    'colsample_bytree': loguniform(0.5, 1),              # Số features dùng mỗi cây\n",
    "    'max_bin': [256, 1024],                              # Số bin cho histogram\n",
    "    'tree_method': ['hist'],                             # Dùng hist để tăng tốc (CPU)\n",
    "    # 'device': ['cuda'],                                # Bỏ nếu không có GPU\n",
    "    'nthread': [2],                                      # Số luồng CPU\n",
    "    'eval_metric': ['logloss']                           # Hàm đánh giá phân loại\n",
    "}\n",
    "\n",
    "# Khởi tạo mô hình tìm kiếm\n",
    "search = RandomizedSearchCV(\n",
    "    estimator=XGBClassifier(use_label_encoder=False, random_state=42),\n",
    "    param_distributions=param_dis,\n",
    "    n_iter=100,\n",
    "    scoring='f1',\n",
    "    refit=True,\n",
    "    cv=cv,\n",
    "    verbose=3,\n",
    "    n_jobs=-1\n",
    ")"
   ]
  },
  {
   "cell_type": "code",
   "execution_count": null,
   "id": "e4f74a63",
   "metadata": {},
   "outputs": [],
   "source": [
    "search.fit(X_train, y_train)\n",
    "\n",
    "print(\"Best params:\", search.best_params_)\n",
    "print(\"Best F1 score:\", search.best_score_)"
   ]
  },
  {
   "cell_type": "code",
   "execution_count": null,
   "id": "d75a080d",
   "metadata": {},
   "outputs": [],
   "source": [
    "best_xgb = XGBClassifier(\n",
    "    colsample_bytree= 0.9236117361774273,\n",
    "    eval_metric='logloss',\n",
    "    learning_rate=0.010330890615126487,\n",
    "    max_bin=256,\n",
    "    max_depth=9,\n",
    "    min_child_weight=0.4372916896505061,\n",
    "    n_estimators=250,\n",
    "    nthread=2,\n",
    "    reg_lambda=0.00029434882880863505,\n",
    "    subsample=0.5379579346349724,\n",
    "    tree_method='hist',\n",
    "    random_state=42\n",
    ")\n",
    "\n",
    "# Train the model\n",
    "best_xgb.fit(X_train, y_train)\n",
    "\n",
    "y_pred = xgb_model.predict(X_test)\n",
    "\n",
    "\n",
    "print(confusion_matrix(y_test, y_pred))\n",
    "print(classification_report(y_test, y_pred))\n"
   ]
  },
  {
   "cell_type": "code",
   "execution_count": null,
   "id": "d52eb9aa",
   "metadata": {},
   "outputs": [],
   "source": [
    "import joblib\n",
    "joblib.dump(best_rf, 'best_xgb_model.pkl')"
   ]
  }
 ],
 "metadata": {
  "language_info": {
   "name": "python"
  }
 },
 "nbformat": 4,
 "nbformat_minor": 5
}
