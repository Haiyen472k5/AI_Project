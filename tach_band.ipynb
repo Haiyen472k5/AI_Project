{
 "cells": [
  {
   "cell_type": "code",
   "execution_count": 8,
   "id": "2c668b68",
   "metadata": {},
   "outputs": [
    {
     "name": "stdout",
     "output_type": "stream",
     "text": [
      "✅ Saved test_07_30\\brightness.tif\n",
      "✅ Saved test_07_30\\ndvi.tif\n",
      "✅ Saved test_07_30\\ndvi.tif\n",
      "✅ Saved test_07_30\\ndi_rb.tif\n",
      "✅ Saved test_07_30\\ndi_rb.tif\n",
      "✅ Saved test_07_30\\min_rgb.tif\n",
      "✅ Saved test_07_30\\min_rgb.tif\n",
      "✅ Saved test_07_30\\br_ratio.tif\n",
      "✅ Saved test_07_30\\br_ratio.tif\n"
     ]
    }
   ],
   "source": [
    "import numpy as np\n",
    "import rasterio\n",
    "import os\n",
    "\n",
    "# === Configuration ===\n",
    "input_file = \"test_07_30/sentinel_07_30.tif\"  # Path to multi-band GeoTIFF\n",
    "output_dir = \"test_07_30\"           # Directory for saving features\n",
    "os.makedirs(output_dir, exist_ok=True)\n",
    "\n",
    "# === Read bands from multi-band GeoTIFF ===\n",
    "with rasterio.open(input_file) as src:\n",
    "    # Read all bands\n",
    "    red = src.read(1).astype(np.float32)    # Band 1\n",
    "    green = src.read(2).astype(np.float32)   # Band 2\n",
    "    blue = src.read(3).astype(np.float32)    # Band 3\n",
    "    nir = src.read(4).astype(np.float32)     # Band 4\n",
    "    profile = src.profile\n",
    "\n",
    "# === Calculate spectral indices ===\n",
    "eps = 1e-4  # Avoid division by zero\n",
    "\n",
    "brightness = (red + green + blue) / 3\n",
    "ndvi = (nir - red) / (nir + red + eps)\n",
    "ndi_rb = (red - blue) / (red + blue + eps)\n",
    "min_rgb = np.minimum.reduce([red, green, blue])\n",
    "br_ratio = blue / (red + eps)\n",
    "\n",
    "# === Save each raster ===\n",
    "features = {\n",
    "    \"brightness.tif\": brightness,\n",
    "    \"ndvi.tif\": ndvi,\n",
    "    \"ndi_rb.tif\": ndi_rb,\n",
    "    \"min_rgb.tif\": min_rgb,\n",
    "    \"br_ratio.tif\": br_ratio,\n",
    "}\n",
    "\n",
    "profile.update(dtype=rasterio.float32, count=1)\n",
    "\n",
    "for name, array in features.items():\n",
    "    out_path = os.path.join(output_dir, name)\n",
    "    with rasterio.open(out_path, \"w\", **profile) as dst:\n",
    "        dst.write(array, 1)\n",
    "    print(f\"✅ Saved {out_path}\")"
   ]
  }
 ],
 "metadata": {
  "kernelspec": {
   "display_name": "myenv",
   "language": "python",
   "name": "python3"
  },
  "language_info": {
   "codemirror_mode": {
    "name": "ipython",
    "version": 3
   },
   "file_extension": ".py",
   "mimetype": "text/x-python",
   "name": "python",
   "nbconvert_exporter": "python",
   "pygments_lexer": "ipython3",
   "version": "3.10.16"
  }
 },
 "nbformat": 4,
 "nbformat_minor": 5
}
