{
 "cells": [
  {
   "cell_type": "code",
   "execution_count": 22,
   "id": "2fb92c88",
   "metadata": {},
   "outputs": [],
   "source": [
    "import pandas as pd\n",
    "import matplotlib.pyplot as plt\n",
    "import seaborn as sns\n",
    "from sklearn.ensemble import RandomForestClassifier\n",
    "from sklearn.model_selection import train_test_split\n",
    "from sklearn.metrics import classification_report\n"
   ]
  },
  {
   "cell_type": "code",
   "execution_count": 23,
   "id": "8635e4d4",
   "metadata": {},
   "outputs": [],
   "source": [
    "df = pd.read_csv(\"table_sample/sentinel.csv\")  "
   ]
  },
  {
   "cell_type": "code",
   "execution_count": 24,
   "id": "1b265b9b",
   "metadata": {},
   "outputs": [
    {
     "data": {
      "text/html": [
       "<div>\n",
       "<style scoped>\n",
       "    .dataframe tbody tr th:only-of-type {\n",
       "        vertical-align: middle;\n",
       "    }\n",
       "\n",
       "    .dataframe tbody tr th {\n",
       "        vertical-align: top;\n",
       "    }\n",
       "\n",
       "    .dataframe thead th {\n",
       "        text-align: right;\n",
       "    }\n",
       "</style>\n",
       "<table border=\"1\" class=\"dataframe\">\n",
       "  <thead>\n",
       "    <tr style=\"text-align: right;\">\n",
       "      <th></th>\n",
       "      <th>Classname</th>\n",
       "      <th>Classvalue</th>\n",
       "      <th>brightness</th>\n",
       "      <th>br_ratio</th>\n",
       "      <th>gr_ration</th>\n",
       "      <th>min_rgb</th>\n",
       "      <th>max_rgb</th>\n",
       "      <th>ndvi</th>\n",
       "      <th>ndi_rb</th>\n",
       "      <th>range_rgb</th>\n",
       "      <th>whiteness2</th>\n",
       "    </tr>\n",
       "  </thead>\n",
       "  <tbody>\n",
       "    <tr>\n",
       "      <th>0</th>\n",
       "      <td>Non_cloud</td>\n",
       "      <td>1</td>\n",
       "      <td>1458</td>\n",
       "      <td>0.82933</td>\n",
       "      <td>0.93679</td>\n",
       "      <td>1312</td>\n",
       "      <td>1582</td>\n",
       "      <td>0.203223</td>\n",
       "      <td>0.093297</td>\n",
       "      <td>270</td>\n",
       "      <td>540</td>\n",
       "    </tr>\n",
       "    <tr>\n",
       "      <th>1</th>\n",
       "      <td>Non_cloud</td>\n",
       "      <td>1</td>\n",
       "      <td>1385</td>\n",
       "      <td>0.99404</td>\n",
       "      <td>1.10358</td>\n",
       "      <td>1334</td>\n",
       "      <td>1481</td>\n",
       "      <td>0.385109</td>\n",
       "      <td>0.002990</td>\n",
       "      <td>147</td>\n",
       "      <td>294</td>\n",
       "    </tr>\n",
       "    <tr>\n",
       "      <th>2</th>\n",
       "      <td>Non_cloud</td>\n",
       "      <td>1</td>\n",
       "      <td>1372</td>\n",
       "      <td>1.00534</td>\n",
       "      <td>1.13501</td>\n",
       "      <td>1311</td>\n",
       "      <td>1488</td>\n",
       "      <td>0.516147</td>\n",
       "      <td>-0.002663</td>\n",
       "      <td>177</td>\n",
       "      <td>354</td>\n",
       "    </tr>\n",
       "    <tr>\n",
       "      <th>3</th>\n",
       "      <td>Non_cloud</td>\n",
       "      <td>1</td>\n",
       "      <td>1508</td>\n",
       "      <td>0.98840</td>\n",
       "      <td>1.09823</td>\n",
       "      <td>1449</td>\n",
       "      <td>1610</td>\n",
       "      <td>0.059654</td>\n",
       "      <td>0.005832</td>\n",
       "      <td>161</td>\n",
       "      <td>322</td>\n",
       "    </tr>\n",
       "    <tr>\n",
       "      <th>4</th>\n",
       "      <td>Non_cloud</td>\n",
       "      <td>1</td>\n",
       "      <td>1352</td>\n",
       "      <td>1.02512</td>\n",
       "      <td>1.15856</td>\n",
       "      <td>1274</td>\n",
       "      <td>1476</td>\n",
       "      <td>0.499607</td>\n",
       "      <td>-0.012403</td>\n",
       "      <td>202</td>\n",
       "      <td>404</td>\n",
       "    </tr>\n",
       "    <tr>\n",
       "      <th>...</th>\n",
       "      <td>...</td>\n",
       "      <td>...</td>\n",
       "      <td>...</td>\n",
       "      <td>...</td>\n",
       "      <td>...</td>\n",
       "      <td>...</td>\n",
       "      <td>...</td>\n",
       "      <td>...</td>\n",
       "      <td>...</td>\n",
       "      <td>...</td>\n",
       "      <td>...</td>\n",
       "    </tr>\n",
       "    <tr>\n",
       "      <th>503</th>\n",
       "      <td>Cloud</td>\n",
       "      <td>2</td>\n",
       "      <td>10856</td>\n",
       "      <td>1.05485</td>\n",
       "      <td>1.00376</td>\n",
       "      <td>10648</td>\n",
       "      <td>11232</td>\n",
       "      <td>-0.027006</td>\n",
       "      <td>-0.026691</td>\n",
       "      <td>584</td>\n",
       "      <td>1168</td>\n",
       "    </tr>\n",
       "    <tr>\n",
       "      <th>504</th>\n",
       "      <td>Cloud</td>\n",
       "      <td>2</td>\n",
       "      <td>9208</td>\n",
       "      <td>0.99140</td>\n",
       "      <td>0.97764</td>\n",
       "      <td>9096</td>\n",
       "      <td>9304</td>\n",
       "      <td>-0.009165</td>\n",
       "      <td>0.004318</td>\n",
       "      <td>208</td>\n",
       "      <td>416</td>\n",
       "    </tr>\n",
       "    <tr>\n",
       "      <th>505</th>\n",
       "      <td>Cloud</td>\n",
       "      <td>2</td>\n",
       "      <td>5968</td>\n",
       "      <td>1.26935</td>\n",
       "      <td>1.12671</td>\n",
       "      <td>5272</td>\n",
       "      <td>6692</td>\n",
       "      <td>0.030971</td>\n",
       "      <td>-0.118689</td>\n",
       "      <td>1420</td>\n",
       "      <td>2840</td>\n",
       "    </tr>\n",
       "    <tr>\n",
       "      <th>506</th>\n",
       "      <td>Cloud</td>\n",
       "      <td>2</td>\n",
       "      <td>11784</td>\n",
       "      <td>1.05052</td>\n",
       "      <td>1.00761</td>\n",
       "      <td>11560</td>\n",
       "      <td>12144</td>\n",
       "      <td>-0.004868</td>\n",
       "      <td>-0.024637</td>\n",
       "      <td>584</td>\n",
       "      <td>1168</td>\n",
       "    </tr>\n",
       "    <tr>\n",
       "      <th>507</th>\n",
       "      <td>Cloud</td>\n",
       "      <td>2</td>\n",
       "      <td>12506</td>\n",
       "      <td>1.07378</td>\n",
       "      <td>1.01581</td>\n",
       "      <td>12144</td>\n",
       "      <td>13040</td>\n",
       "      <td>-0.009309</td>\n",
       "      <td>-0.035578</td>\n",
       "      <td>896</td>\n",
       "      <td>1792</td>\n",
       "    </tr>\n",
       "  </tbody>\n",
       "</table>\n",
       "<p>508 rows × 11 columns</p>\n",
       "</div>"
      ],
      "text/plain": [
       "     Classname  Classvalue  brightness  br_ratio  gr_ration  min_rgb  max_rgb  \\\n",
       "0    Non_cloud           1        1458   0.82933    0.93679     1312     1582   \n",
       "1    Non_cloud           1        1385   0.99404    1.10358     1334     1481   \n",
       "2    Non_cloud           1        1372   1.00534    1.13501     1311     1488   \n",
       "3    Non_cloud           1        1508   0.98840    1.09823     1449     1610   \n",
       "4    Non_cloud           1        1352   1.02512    1.15856     1274     1476   \n",
       "..         ...         ...         ...       ...        ...      ...      ...   \n",
       "503      Cloud           2       10856   1.05485    1.00376    10648    11232   \n",
       "504      Cloud           2        9208   0.99140    0.97764     9096     9304   \n",
       "505      Cloud           2        5968   1.26935    1.12671     5272     6692   \n",
       "506      Cloud           2       11784   1.05052    1.00761    11560    12144   \n",
       "507      Cloud           2       12506   1.07378    1.01581    12144    13040   \n",
       "\n",
       "         ndvi    ndi_rb  range_rgb  whiteness2  \n",
       "0    0.203223  0.093297        270         540  \n",
       "1    0.385109  0.002990        147         294  \n",
       "2    0.516147 -0.002663        177         354  \n",
       "3    0.059654  0.005832        161         322  \n",
       "4    0.499607 -0.012403        202         404  \n",
       "..        ...       ...        ...         ...  \n",
       "503 -0.027006 -0.026691        584        1168  \n",
       "504 -0.009165  0.004318        208         416  \n",
       "505  0.030971 -0.118689       1420        2840  \n",
       "506 -0.004868 -0.024637        584        1168  \n",
       "507 -0.009309 -0.035578        896        1792  \n",
       "\n",
       "[508 rows x 11 columns]"
      ]
     },
     "execution_count": 24,
     "metadata": {},
     "output_type": "execute_result"
    }
   ],
   "source": [
    "df"
   ]
  },
  {
   "cell_type": "code",
   "execution_count": 25,
   "id": "cb9d0008",
   "metadata": {},
   "outputs": [],
   "source": [
    "features = [\n",
    "    'brightness', 'br_ratio', 'gr_ration', \n",
    "    'min_rgb', 'max_rgb', 'ndvi',\n",
    "    'ndi_rb', 'range_rgb', 'whiteness2'\n",
    "]\n",
    "X = df[features]\n",
    "y = df['Classvalue']  # nhãn: 1 = Non-cloud, 2 = Cloud\n"
   ]
  },
  {
   "cell_type": "code",
   "execution_count": 26,
   "id": "4c5d9607",
   "metadata": {},
   "outputs": [],
   "source": [
    "X_train, X_test, y_train, y_test = train_test_split(X, y, test_size=0.2, random_state=42)"
   ]
  },
  {
   "cell_type": "code",
   "execution_count": 27,
   "id": "ebe282b6",
   "metadata": {},
   "outputs": [],
   "source": [
    "model = RandomForestClassifier(n_estimators=100, random_state=42)\n",
    "model.fit(X_train, y_train)\n",
    "y_pred = model.predict(X_test)\n"
   ]
  },
  {
   "cell_type": "code",
   "execution_count": 28,
   "id": "ea376a30",
   "metadata": {},
   "outputs": [],
   "source": [
    "importances = model.feature_importances_\n",
    "ranking_df = pd.DataFrame({'Feature': features, 'Importance': importances})\n",
    "ranking_df = ranking_df.sort_values('Importance', ascending=False)\n"
   ]
  },
  {
   "cell_type": "code",
   "execution_count": 29,
   "id": "ba6b54c7",
   "metadata": {},
   "outputs": [
    {
     "name": "stdout",
     "output_type": "stream",
     "text": [
      "\n",
      "📋 Feature Ranking:\n",
      "      Feature  Importance\n",
      "3     min_rgb    0.328757\n",
      "0  brightness    0.269801\n",
      "4     max_rgb    0.165119\n",
      "1    br_ratio    0.062803\n",
      "6      ndi_rb    0.049372\n",
      "2   gr_ration    0.049135\n",
      "5        ndvi    0.037343\n",
      "8  whiteness2    0.019748\n",
      "7   range_rgb    0.017924\n"
     ]
    }
   ],
   "source": [
    "print(\"\\n📋 Feature Ranking:\")\n",
    "print(ranking_df)\n"
   ]
  },
  {
   "cell_type": "code",
   "execution_count": 30,
   "id": "23505727",
   "metadata": {},
   "outputs": [
    {
     "name": "stderr",
     "output_type": "stream",
     "text": [
      "C:\\Users\\haiye\\AppData\\Local\\Temp\\ipykernel_29276\\2137295778.py:1: FutureWarning: \n",
      "\n",
      "Passing `palette` without assigning `hue` is deprecated and will be removed in v0.14.0. Assign the `y` variable to `hue` and set `legend=False` for the same effect.\n",
      "\n",
      "  sns.barplot(x='Importance', y='Feature', data=ranking_df, palette='viridis')\n"
     ]
    },
    {
     "data": {
      "image/png": "[encoded data removed]",
      "text/plain": [
       "<Figure size 640x480 with 1 Axes>"
      ]
     },
     "metadata": {},
     "output_type": "display_data"
    }
   ],
   "source": [
    "sns.barplot(x='Importance', y='Feature', data=ranking_df, palette='viridis')\n",
    "plt.title(\"Feature Importance - Cloud Detection\")\n",
    "plt.xlabel(\"Importance Score\")\n",
    "plt.ylabel(\"Feature\")\n",
    "plt.tight_layout()\n",
    "plt.show()\n"
   ]
  },
  {
   "cell_type": "code",
   "execution_count": 31,
   "id": "ff4deaa1",
   "metadata": {},
   "outputs": [
    {
     "name": "stdout",
     "output_type": "stream",
     "text": [
      "\n",
      "📊 Classification Report:\n",
      "              precision    recall  f1-score   support\n",
      "\n",
      "           1      0.939     0.984     0.961        63\n",
      "           2      0.972     0.897     0.933        39\n",
      "\n",
      "    accuracy                          0.951       102\n",
      "   macro avg      0.956     0.941     0.947       102\n",
      "weighted avg      0.952     0.951     0.951       102\n",
      "\n"
     ]
    }
   ],
   "source": [
    "print(\"\\n📊 Classification Report:\")\n",
    "print(classification_report(y_test, y_pred, digits=3))\n"
   ]
  }
 ],
 "metadata": {
  "kernelspec": {
   "display_name": "myenv",
   "language": "python",
   "name": "python3"
  },
  "language_info": {
   "codemirror_mode": {
    "name": "ipython",
    "version": 3
   },
   "file_extension": ".py",
   "mimetype": "text/x-python",
   "name": "python",
   "nbconvert_exporter": "python",
   "pygments_lexer": "ipython3",
   "version": "3.10.16"
  }
 },
 "nbformat": 4,
 "nbformat_minor": 5
}
